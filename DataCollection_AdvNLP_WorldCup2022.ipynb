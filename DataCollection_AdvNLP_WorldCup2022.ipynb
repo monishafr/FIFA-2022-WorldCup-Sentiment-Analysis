{
  "cells": [
    {
      "cell_type": "markdown",
      "metadata": {
        "id": "qnECfyy6wvVi"
      },
      "source": [
        "# This notebook demonstrates how to:\n",
        "\n",
        "1. Collect Reddit data using PMAW/PRAW\n",
        "2. Do sentiment analysis using VADER\n",
        "3. Do sentiment analysis using EMPATH\n",
        "\n",
        "#### Credit: Darshan Satra (dsatra@iu.edu)\n",
        "\n"
      ]
    },
    {
      "cell_type": "markdown",
      "metadata": {
        "id": "Xb09VbkfwvVk"
      },
      "source": [
        "## 1. Script to collect data from Reddit using PMAW/PRAW"
      ]
    },
    {
      "cell_type": "markdown",
      "metadata": {
        "id": "47r5RpAFwvVk"
      },
      "source": [
        "For installing praw:"
      ]
    },
    {
      "cell_type": "code",
      "execution_count": 3,
      "metadata": {
        "colab": {
          "base_uri": "https://localhost:8080/"
        },
        "id": "zuTxyCfWwvVk",
        "outputId": "9f320a0c-aa71-4a5c-a395-dd2207da48d2"
      },
      "outputs": [
        {
          "output_type": "stream",
          "name": "stdout",
          "text": [
            "Collecting praw\n",
            "  Downloading praw-7.8.1-py3-none-any.whl.metadata (9.4 kB)\n",
            "Collecting prawcore<3,>=2.4 (from praw)\n",
            "  Downloading prawcore-2.4.0-py3-none-any.whl.metadata (5.0 kB)\n",
            "Collecting update_checker>=0.18 (from praw)\n",
            "  Downloading update_checker-0.18.0-py3-none-any.whl.metadata (2.3 kB)\n",
            "Requirement already satisfied: websocket-client>=0.54.0 in /usr/local/lib/python3.10/dist-packages (from praw) (1.8.0)\n",
            "Requirement already satisfied: requests<3.0,>=2.6.0 in /usr/local/lib/python3.10/dist-packages (from prawcore<3,>=2.4->praw) (2.32.3)\n",
            "Requirement already satisfied: charset-normalizer<4,>=2 in /usr/local/lib/python3.10/dist-packages (from requests<3.0,>=2.6.0->prawcore<3,>=2.4->praw) (3.4.0)\n",
            "Requirement already satisfied: idna<4,>=2.5 in /usr/local/lib/python3.10/dist-packages (from requests<3.0,>=2.6.0->prawcore<3,>=2.4->praw) (3.10)\n",
            "Requirement already satisfied: urllib3<3,>=1.21.1 in /usr/local/lib/python3.10/dist-packages (from requests<3.0,>=2.6.0->prawcore<3,>=2.4->praw) (2.2.3)\n",
            "Requirement already satisfied: certifi>=2017.4.17 in /usr/local/lib/python3.10/dist-packages (from requests<3.0,>=2.6.0->prawcore<3,>=2.4->praw) (2024.8.30)\n",
            "Downloading praw-7.8.1-py3-none-any.whl (189 kB)\n",
            "\u001b[2K   \u001b[90m━━━━━━━━━━━━━━━━━━━━━━━━━━━━━━━━━━━━━━━━\u001b[0m \u001b[32m189.3/189.3 kB\u001b[0m \u001b[31m6.8 MB/s\u001b[0m eta \u001b[36m0:00:00\u001b[0m\n",
            "\u001b[?25hDownloading prawcore-2.4.0-py3-none-any.whl (17 kB)\n",
            "Downloading update_checker-0.18.0-py3-none-any.whl (7.0 kB)\n",
            "Installing collected packages: update_checker, prawcore, praw\n",
            "Successfully installed praw-7.8.1 prawcore-2.4.0 update_checker-0.18.0\n"
          ]
        }
      ],
      "source": [
        "!pip install praw"
      ]
    },
    {
      "cell_type": "markdown",
      "metadata": {
        "id": "94ym9yt6wvVl"
      },
      "source": [
        "### How to get Reddit Developer Credentials\n",
        "\n",
        "1. Go to www.reddit.com/prefs/apps/ or https://old.reddit.com/prefs/apps\n",
        "\n",
        "2. Create a new script application.\n",
        "\n",
        "3. Use the following value for Redirect uri: http://localhost:8080\n",
        "\n",
        "4. Refer to https://praw.readthedocs.io/en/stable/getting_started/authentication.html#application-only-client-credentials-flow to understand the pieces of information needed for authentication (e.g. client_id, client_secret, etc.).\n"
      ]
    },
    {
      "cell_type": "markdown",
      "metadata": {
        "id": "KLbrYMmuwvVl"
      },
      "source": [
        "### A script for getting submissions from a particular subreddit between two dates and creating a dataframe out of it."
      ]
    },
    {
      "cell_type": "code",
      "source": [
        "import praw\n",
        "import pandas as pd\n",
        "from datetime import datetime\n",
        "\n",
        "# Initialize Reddit API client using PRAW\n",
        "reddit = praw.Reddit(\n",
        "    client_id='mqaw3qYOQqtDWnvUHFiUKg',\n",
        "    client_secret='6bPat7wSc1DU5TN0bn4L30_tCDHIKQ',\n",
        "    user_agent='test',\\\n",
        "    username='mozpt',\n",
        "    password='Sumn@1234'\n",
        ")\n",
        "\n",
        "# Define submissions, their timelines, and categories\n",
        "# Including number of comments and sort method:\n",
        "submissions_info = {\n",
        "    'zyucbm': {  # Best match in World cup 2022? Argentina - Holland\n",
        "        'start': datetime(2022, 12, 29),\n",
        "        'end': datetime(2023, 4, 30),\n",
        "        'category': 'post',\n",
        "        'subreddit': 'worldcup',\n",
        "        'comment_limit': 172,  # \"all 172 comments\"\n",
        "        'sort': 'all'         # all comments, no sorting by top\n",
        "    },\n",
        "    'zoz9vx': {  # [Match thread] Argentina vs France\n",
        "        'start': datetime(2022, 12, 17),\n",
        "        'end': datetime(2023, 4, 30),\n",
        "        'category': 'post',\n",
        "        'subreddit': 'worldcup',\n",
        "        'comment_limit': 700, # top 700 comments\n",
        "        'sort': 'top'\n",
        "    },\n",
        "    '12qqii8': { # Just four months ago...\n",
        "        'start': datetime(2023, 4, 17),\n",
        "        'end': datetime(2024, 4, 30),\n",
        "        'category': 'post',\n",
        "        'subreddit': 'worldcup',\n",
        "        'comment_limit': 426, # all 426 comments\n",
        "        'sort': 'all'\n",
        "    },\n",
        "    'ttwab9': {  # The stage is set for Qatar!\n",
        "        'start': datetime(2022, 3, 30),\n",
        "        'end': datetime(2022, 12, 1),\n",
        "        'category': 'pre',\n",
        "        'subreddit': 'worldcup',\n",
        "        'comment_limit': 271, # all 271 comments\n",
        "        'sort': 'all'\n",
        "    },\n",
        "    'zp43wc': {  # Argentina have won their third World Cup title...\n",
        "        'start': datetime(2022, 12, 17),\n",
        "        'end': datetime(2023, 5, 30),\n",
        "        'category': 'post',\n",
        "        'subreddit': 'soccer',\n",
        "        'comment_limit': 600, # top 600 comments\n",
        "        'sort': 'top'\n",
        "    },\n",
        "    'ypsmmp': { # EA SPORTS predicts Argentina...\n",
        "        'start': datetime(2022, 11, 7),\n",
        "        'end': datetime(2023, 5, 30),\n",
        "        'category': 'pre',\n",
        "        'subreddit': 'soccer',\n",
        "        'comment_limit': 473, # all 473 comments\n",
        "        'sort': 'all'\n",
        "    },\n",
        "    'zh3mwp': { # Croatia defeats Brazil...\n",
        "        'start': datetime(2022, 12, 8),\n",
        "        'end': datetime(2023, 5, 30),\n",
        "        'category': 'pre',\n",
        "        'subreddit': 'soccer',\n",
        "        'comment_limit': 800, # top 800 comments\n",
        "        'sort': 'top'\n",
        "    },\n",
        "    'zh9yru': { # Argentina defeats Netherlands...\n",
        "        'start': datetime(2022, 12, 8),\n",
        "        'end': datetime(2023, 5, 30),\n",
        "        'category': 'pre',\n",
        "        'subreddit': 'soccer',\n",
        "        'comment_limit': 800, # top 800 comments\n",
        "        'sort': 'top'\n",
        "    }\n",
        "}\n",
        "\n",
        "# Lists to store data for pre and post categories\n",
        "pre_data = []\n",
        "post_data = []\n",
        "\n",
        "def process_submission(sub_id, info):\n",
        "    submission = reddit.submission(id=sub_id)\n",
        "\n",
        "    # Set comment sort if needed\n",
        "    if info['sort'] == 'top':\n",
        "        submission.comment_sort = 'top'\n",
        "    else:\n",
        "        # Default sort is 'confidence'\n",
        "        # If we want all comments, no special sorting needed.\n",
        "        submission.comment_sort = 'confidence'\n",
        "\n",
        "    submission.comments.replace_more(limit=0)\n",
        "\n",
        "    sub_title = submission.title\n",
        "    sub_author = submission.author.name if submission.author else '[deleted]'\n",
        "    sub_score = submission.score\n",
        "    sub_created_utc = submission.created_utc\n",
        "    sub_permalink = 'https://www.reddit.com' + submission.permalink\n",
        "\n",
        "    start_date = info['start']\n",
        "    end_date = info['end']\n",
        "    category = info['category']\n",
        "    comment_limit = info['comment_limit']\n",
        "\n",
        "    # Extract comments\n",
        "    all_comments = submission.comments.list()\n",
        "\n",
        "    # If sorting by top and a limit is provided, slice the first N comments.\n",
        "    # If \"all\" was specified and that number matches the total known comments, just slice.\n",
        "    # If fewer comments are available than requested, we take what's available.\n",
        "    if comment_limit > 0:\n",
        "        selected_comments = all_comments[:comment_limit]\n",
        "    else:\n",
        "        selected_comments = all_comments\n",
        "\n",
        "    # Filter by timeframe\n",
        "    for comment in selected_comments:\n",
        "        comment_time = datetime.utcfromtimestamp(comment.created_utc)\n",
        "        if start_date <= comment_time <= end_date:\n",
        "            comment_body = comment.body\n",
        "            comment_author = comment.author.name if comment.author else '[deleted]'\n",
        "            comment_score = comment.score\n",
        "            comment_created_utc = comment.created_utc\n",
        "            row = [\n",
        "                sub_id,\n",
        "                sub_title,\n",
        "                sub_author,\n",
        "                sub_created_utc,\n",
        "                sub_score,\n",
        "                sub_permalink,\n",
        "                comment_author,\n",
        "                comment_body,\n",
        "                comment_score,\n",
        "                comment_created_utc\n",
        "            ]\n",
        "            if category == 'pre':\n",
        "                pre_data.append(row)\n",
        "            else:\n",
        "                post_data.append(row)\n",
        "\n",
        "\n",
        "# Process each submission\n",
        "for sid, info in submissions_info.items():\n",
        "    process_submission(sid, info)\n",
        "\n",
        "columns = [\n",
        "    'Submission_ID', 'Submission_Title', 'Submission_Author', 'Submission_Created_UTC',\n",
        "    'Submission_Score', 'Submission_Permalink', 'Comment_Author', 'Comment_Body',\n",
        "    'Comment_Score', 'Comment_Created_UTC'\n",
        "]\n",
        "\n",
        "pre_df = pd.DataFrame(pre_data, columns=columns)\n",
        "post_df = pd.DataFrame(post_data, columns=columns)\n",
        "\n",
        "# Write DataFrames to CSV files\n",
        "pre_df.to_csv('pre_worldcup_sentiments.csv', index=False)\n",
        "post_df.to_csv('post_worldcup_sentiments.csv', index=False)\n",
        "\n",
        "print(\"Data extraction complete. 'pre_worldcup_sentiments.csv' and 'post_worldcup_sentiments.csv' have been created.\")"
      ],
      "metadata": {
        "colab": {
          "base_uri": "https://localhost:8080/"
        },
        "id": "4mviFaa2l0-Y",
        "outputId": "ef649b5b-6157-4f7f-e6a6-f7fedede688f"
      },
      "execution_count": 12,
      "outputs": [
        {
          "output_type": "stream",
          "name": "stderr",
          "text": [
            "WARNING:praw:It appears that you are using PRAW in an asynchronous environment.\n",
            "It is strongly recommended to use Async PRAW: https://asyncpraw.readthedocs.io.\n",
            "See https://praw.readthedocs.io/en/latest/getting_started/multiple_instances.html#discord-bots-and-asynchronous-environments for more info.\n",
            "\n",
            "WARNING:praw:It appears that you are using PRAW in an asynchronous environment.\n",
            "It is strongly recommended to use Async PRAW: https://asyncpraw.readthedocs.io.\n",
            "See https://praw.readthedocs.io/en/latest/getting_started/multiple_instances.html#discord-bots-and-asynchronous-environments for more info.\n",
            "\n",
            "WARNING:praw:It appears that you are using PRAW in an asynchronous environment.\n",
            "It is strongly recommended to use Async PRAW: https://asyncpraw.readthedocs.io.\n",
            "See https://praw.readthedocs.io/en/latest/getting_started/multiple_instances.html#discord-bots-and-asynchronous-environments for more info.\n",
            "\n",
            "WARNING:praw:It appears that you are using PRAW in an asynchronous environment.\n",
            "It is strongly recommended to use Async PRAW: https://asyncpraw.readthedocs.io.\n",
            "See https://praw.readthedocs.io/en/latest/getting_started/multiple_instances.html#discord-bots-and-asynchronous-environments for more info.\n",
            "\n",
            "WARNING:praw:It appears that you are using PRAW in an asynchronous environment.\n",
            "It is strongly recommended to use Async PRAW: https://asyncpraw.readthedocs.io.\n",
            "See https://praw.readthedocs.io/en/latest/getting_started/multiple_instances.html#discord-bots-and-asynchronous-environments for more info.\n",
            "\n",
            "WARNING:praw:It appears that you are using PRAW in an asynchronous environment.\n",
            "It is strongly recommended to use Async PRAW: https://asyncpraw.readthedocs.io.\n",
            "See https://praw.readthedocs.io/en/latest/getting_started/multiple_instances.html#discord-bots-and-asynchronous-environments for more info.\n",
            "\n",
            "WARNING:praw:It appears that you are using PRAW in an asynchronous environment.\n",
            "It is strongly recommended to use Async PRAW: https://asyncpraw.readthedocs.io.\n",
            "See https://praw.readthedocs.io/en/latest/getting_started/multiple_instances.html#discord-bots-and-asynchronous-environments for more info.\n",
            "\n",
            "WARNING:praw:It appears that you are using PRAW in an asynchronous environment.\n",
            "It is strongly recommended to use Async PRAW: https://asyncpraw.readthedocs.io.\n",
            "See https://praw.readthedocs.io/en/latest/getting_started/multiple_instances.html#discord-bots-and-asynchronous-environments for more info.\n",
            "\n"
          ]
        },
        {
          "output_type": "stream",
          "name": "stdout",
          "text": [
            "Data extraction complete. 'pre_worldcup_sentiments.csv' and 'post_worldcup_sentiments.csv' have been created.\n"
          ]
        }
      ]
    },
    {
      "cell_type": "markdown",
      "metadata": {
        "id": "v8cOaiwgwvVn"
      },
      "source": [
        "### A script for getting reddit posts containing a few keywords between two dates"
      ]
    },
    {
      "cell_type": "code",
      "execution_count": null,
      "metadata": {
        "id": "qYNoY49zwvVn"
      },
      "outputs": [],
      "source": [
        "subreddit = 'learnpython'\n",
        "keywords = ['IDE', 'Python']\n",
        "start_date = datetime(2022, 1, 1)\n",
        "end_date = datetime(2023, 1, 1)\n",
        "\n",
        "data = []\n",
        "\n",
        "for submission in reddit.subreddit(subreddit).search(f'{keywords}', limit=None):\n",
        "    created_utc = submission.created_utc\n",
        "    submission_date = datetime.utcfromtimestamp(created_utc)\n",
        "    if start_date <= submission_date < end_date:\n",
        "        title = submission.title\n",
        "        author = submission.author.name if submission.author else '[deleted]'\n",
        "        score = submission.score\n",
        "        data.append([title, author, score, submission_date])\n",
        "\n",
        "# Create a pandas DataFrame from the data\n",
        "df = pd.DataFrame(data, columns=['Title', 'Author', 'Score', 'Date'])\n",
        "\n",
        "# Write the DataFrame to a CSV file\n",
        "df.to_csv('reddit_data.csv', index=False)"
      ]
    },
    {
      "cell_type": "markdown",
      "metadata": {
        "id": "DrpxjxVHwvVn"
      },
      "source": [
        "### A script for getting X number of Reddit comments under a specific post"
      ]
    },
    {
      "cell_type": "code",
      "execution_count": null,
      "metadata": {
        "id": "ma2XiZyzwvVn",
        "outputId": "769c6f44-917e-4ca3-e2c3-a15c2213cece"
      },
      "outputs": [
        {
          "name": "stdout",
          "output_type": "stream",
          "text": [
            "\n"
          ]
        }
      ],
      "source": [
        "from praw.models import MoreComments\n",
        "post_id = '1b2pexb'\n",
        "num_comments = 100\n",
        "\n",
        "post = reddit.submission(id=post_id)\n",
        "\n",
        "comments = post.comments[:num_comments]\n",
        "\n",
        "data = []\n",
        "\n",
        "def getComments(comments):\n",
        "    try:\n",
        "        for comment in comments:\n",
        "            if isinstance(comment,MoreComments):\n",
        "                # This is a comment that has more comments inside it\n",
        "                # We need to go through those sub comments\n",
        "                getComments(comment.comments)\n",
        "                continue\n",
        "            author = comment.author.name if comment.author else '[deleted]'\n",
        "            text = comment.body\n",
        "            date = comment.created_utc\n",
        "            score = comment.score\n",
        "            data.append([author, text, date, score])\n",
        "    except:\n",
        "        print(\"\")\n",
        "\n",
        "getComments(comments)\n",
        "\n",
        "# Create a pandas DataFrame from the data\n",
        "df = pd.DataFrame(data, columns=['Author', 'Text', 'Date', 'Score'])\n",
        "\n",
        "# Write the DataFrame to a CSV file\n",
        "df.to_csv('reddit_data.csv', index=False)"
      ]
    },
    {
      "cell_type": "markdown",
      "metadata": {
        "id": "Bdf6f01uwvVo"
      },
      "source": [
        "## 2. Script for sentiment analysis using VADER"
      ]
    },
    {
      "cell_type": "markdown",
      "metadata": {
        "id": "M1VF56SiwvVo"
      },
      "source": [
        "To install the package use this command:"
      ]
    },
    {
      "cell_type": "code",
      "execution_count": null,
      "metadata": {
        "id": "hnPInF5_wvVo",
        "outputId": "e8a228ee-f271-47fb-d6a4-d9bcf993660c"
      },
      "outputs": [
        {
          "name": "stdout",
          "output_type": "stream",
          "text": [
            "Requirement already satisfied: vaderSentiment in /opt/homebrew/lib/python3.11/site-packages (3.3.2)\n",
            "Requirement already satisfied: requests in /opt/homebrew/lib/python3.11/site-packages (from vaderSentiment) (2.31.0)\n",
            "Requirement already satisfied: charset-normalizer<4,>=2 in /opt/homebrew/lib/python3.11/site-packages (from requests->vaderSentiment) (3.3.2)\n",
            "Requirement already satisfied: idna<4,>=2.5 in /Users/darshansatra1/Library/Python/3.11/lib/python/site-packages (from requests->vaderSentiment) (3.4)\n",
            "Requirement already satisfied: urllib3<3,>=1.21.1 in /opt/homebrew/lib/python3.11/site-packages (from requests->vaderSentiment) (2.1.0)\n",
            "Requirement already satisfied: certifi>=2017.4.17 in /opt/homebrew/lib/python3.11/site-packages (from requests->vaderSentiment) (2023.11.17)\n",
            "\n",
            "\u001b[1m[\u001b[0m\u001b[34;49mnotice\u001b[0m\u001b[1;39;49m]\u001b[0m\u001b[39;49m A new release of pip is available: \u001b[0m\u001b[31;49m23.3.1\u001b[0m\u001b[39;49m -> \u001b[0m\u001b[32;49m24.0\u001b[0m\n",
            "\u001b[1m[\u001b[0m\u001b[34;49mnotice\u001b[0m\u001b[1;39;49m]\u001b[0m\u001b[39;49m To update, run: \u001b[0m\u001b[32;49mpython3.11 -m pip install --upgrade pip\u001b[0m\n",
            "Note: you may need to restart the kernel to use updated packages.\n"
          ]
        }
      ],
      "source": [
        "pip install vaderSentiment"
      ]
    },
    {
      "cell_type": "markdown",
      "metadata": {
        "id": "U_QTIFvswvVo"
      },
      "source": [
        "Script for VADER"
      ]
    },
    {
      "cell_type": "code",
      "execution_count": null,
      "metadata": {
        "id": "xfH_PuhjwvVo",
        "outputId": "ed464d11-fd86-4ec8-9988-a1c4e5f677d8"
      },
      "outputs": [
        {
          "data": {
            "image/png": "[encoded data removed]",
            "text/plain": [
              "<Figure size 640x480 with 1 Axes>"
            ]
          },
          "metadata": {},
          "output_type": "display_data"
        }
      ],
      "source": [
        "from vaderSentiment.vaderSentiment import SentimentIntensityAnalyzer\n",
        "import pandas as pd\n",
        "import string\n",
        "import seaborn as sns\n",
        "\n",
        "\n",
        "df = pd.read_csv('reddit_data.csv')\n",
        "df = df.loc[:,['Date','Text']]\n",
        "\n",
        "sid_obj = SentimentIntensityAnalyzer()\n",
        "\n",
        "# function to pre-precess\n",
        "def preprocess_data(df):\n",
        "    df[\"Text\"] = df[\"Text\"].apply(lambda x:x.translate(str.maketrans('','',string.punctuation)))\n",
        "    df[\"Date\"] = pd.to_datetime(df[\"Date\"])\n",
        "    df[\"Month\"] = df['Date'].dt.strftime('%b')\n",
        "    return df\n",
        "\n",
        "# Compute sentiment and plot monthly score\n",
        "def sentiment(df):\n",
        "    sentiment_scores = []\n",
        "    for text in df['Text']:\n",
        "        scores = sid_obj.polarity_scores(text)\n",
        "        sentiment_scores.append(scores['compound'])\n",
        "    df['sentiment_score'] = sentiment_scores\n",
        "\n",
        "    # Group by month and compute the mean sentiment score\n",
        "    monthly_avg_sentiment = df.groupby('Month')['sentiment_score'].mean().reset_index()\n",
        "\n",
        "    # Initialize a DataFrame with all months\n",
        "    all_months = pd.DataFrame({'Month': pd.date_range(start='2022-01-01', end='2022-12-31', freq='MS').strftime('%b')})\n",
        "\n",
        "    # Merge sentiment data with all months\n",
        "    monthly_avg_sentiment = all_months.merge(monthly_avg_sentiment, on='Month', how='left')\n",
        "\n",
        "    # Replace NaN values with 0\n",
        "    monthly_avg_sentiment['sentiment_score'] = monthly_avg_sentiment['sentiment_score'].fillna(0)\n",
        "\n",
        "    sns.set_style('whitegrid')\n",
        "    sns.barplot(x='Month', y='sentiment_score', data=monthly_avg_sentiment)\n",
        "\n",
        "df =preprocess_data(df)\n",
        "sentiment(df)"
      ]
    },
    {
      "cell_type": "markdown",
      "metadata": {
        "id": "XaUxwV5SwvVo"
      },
      "source": [
        "## 3. Script for sentiment analysis using EMPATH"
      ]
    },
    {
      "cell_type": "markdown",
      "metadata": {
        "id": "DcQ1fcJ6wvVp"
      },
      "source": [
        "To install empath use this command:"
      ]
    },
    {
      "cell_type": "code",
      "execution_count": null,
      "metadata": {
        "id": "4RTiOXIVwvVp",
        "outputId": "298d467d-c1a5-4f0c-a9e9-65ce61fc87b1"
      },
      "outputs": [
        {
          "name": "stdout",
          "output_type": "stream",
          "text": [
            "Collecting empath\n",
            "  Downloading empath-0.89.tar.gz (57 kB)\n",
            "\u001b[2K     \u001b[90m━━━━━━━━━━━━━━━━━━━━━━━━━━━━━━━━━━━━━━━━\u001b[0m \u001b[32m57.6/57.6 kB\u001b[0m \u001b[31m2.7 MB/s\u001b[0m eta \u001b[36m0:00:00\u001b[0m\n",
            "\u001b[?25h  Preparing metadata (setup.py) ... \u001b[?25ldone\n",
            "\u001b[?25hRequirement already satisfied: requests in /opt/homebrew/lib/python3.11/site-packages (from empath) (2.31.0)\n",
            "Requirement already satisfied: charset-normalizer<4,>=2 in /opt/homebrew/lib/python3.11/site-packages (from requests->empath) (3.3.2)\n",
            "Requirement already satisfied: idna<4,>=2.5 in /Users/darshansatra1/Library/Python/3.11/lib/python/site-packages (from requests->empath) (3.4)\n",
            "Requirement already satisfied: urllib3<3,>=1.21.1 in /opt/homebrew/lib/python3.11/site-packages (from requests->empath) (2.1.0)\n",
            "Requirement already satisfied: certifi>=2017.4.17 in /opt/homebrew/lib/python3.11/site-packages (from requests->empath) (2023.11.17)\n",
            "Building wheels for collected packages: empath\n",
            "  Building wheel for empath (setup.py) ... \u001b[?25ldone\n",
            "\u001b[?25h  Created wheel for empath: filename=empath-0.89-py3-none-any.whl size=57800 sha256=8a2a2876adc0be3f06bf1d2ac739b6ce90ff5fd36eef1d8fdd57d2963bd9532e\n",
            "  Stored in directory: /Users/darshansatra1/Library/Caches/pip/wheels/b5/93/85/f4e8694df404eb214060dd0e0f3fda14398638f5835b3dde23\n",
            "Successfully built empath\n",
            "Installing collected packages: empath\n",
            "Successfully installed empath-0.89\n",
            "\n",
            "\u001b[1m[\u001b[0m\u001b[34;49mnotice\u001b[0m\u001b[1;39;49m]\u001b[0m\u001b[39;49m A new release of pip is available: \u001b[0m\u001b[31;49m23.3.1\u001b[0m\u001b[39;49m -> \u001b[0m\u001b[32;49m24.0\u001b[0m\n",
            "\u001b[1m[\u001b[0m\u001b[34;49mnotice\u001b[0m\u001b[1;39;49m]\u001b[0m\u001b[39;49m To update, run: \u001b[0m\u001b[32;49mpython3.11 -m pip install --upgrade pip\u001b[0m\n",
            "Note: you may need to restart the kernel to use updated packages.\n"
          ]
        }
      ],
      "source": [
        "pip install empath"
      ]
    },
    {
      "cell_type": "code",
      "execution_count": null,
      "metadata": {
        "id": "KLGj9k0qwvVp",
        "outputId": "dc28018a-1b98-4de1-8597-47b74594e67c"
      },
      "outputs": [
        {
          "data": {
            "image/png": "[encoded data removed]",
            "text/plain": [
              "<Figure size 1000x500 with 2 Axes>"
            ]
          },
          "metadata": {},
          "output_type": "display_data"
        }
      ],
      "source": [
        "import empath\n",
        "import pandas as pd\n",
        "import string\n",
        "import seaborn as sns\n",
        "import matplotlib.pyplot as plt\n",
        "\n",
        "\n",
        "df = pd.read_csv('reddit_data.csv')\n",
        "df = df.loc[:,['Date','Text']]\n",
        "\n",
        "lexicon = empath.Empath()\n",
        "fig,(ax1,ax2) = plt.subplots(ncols=2,figsize=(10,5))\n",
        "\n",
        "def preprocess_data(df):\n",
        "    df[\"Text\"] = df[\"Text\"].apply(lambda x:x.translate(str.maketrans('','',string.punctuation)))\n",
        "    df[\"Date\"] = pd.to_datetime(df[\"Date\"])\n",
        "    df[\"Month\"] = df['Date'].dt.strftime('%b')\n",
        "    return df\n",
        "\n",
        "def sentiment(df):\n",
        "    positive_emotion = []\n",
        "    negative_emotion = []\n",
        "    for text in df['Text']:\n",
        "        scores = lexicon.analyze(text)\n",
        "        positive_emotion.append(scores['positive_emotion'])\n",
        "        negative_emotion.append(scores['negative_emotion'])\n",
        "\n",
        "    df['positive_emotion'] = positive_emotion\n",
        "    df['negative_emotion'] = negative_emotion\n",
        "\n",
        "    # Initialize a DataFrame with all months\n",
        "    all_months = pd.DataFrame({'Month': pd.date_range(start='2022-01-01', end='2022-12-31', freq='MS').strftime('%b')})\n",
        "\n",
        "    # Merge sentiment data with all months\n",
        "    df = all_months.merge(df, on='Month', how='left')\n",
        "\n",
        "    # Replace NaN values with 0\n",
        "    df['positive_emotion'] = df['positive_emotion'].fillna(0)\n",
        "    df['negative_emotion'] = df['negative_emotion'].fillna(0)\n",
        "\n",
        "    sns.set_style('whitegrid')\n",
        "    sns.lineplot(x='Month', y='positive_emotion', data=df, ax=ax1)\n",
        "    ax1.set_title(\"Lineplot for Positive Emotion\")\n",
        "\n",
        "    sns.set_style('whitegrid')\n",
        "    sns.lineplot(x='Month', y='negative_emotion', data=df, ax=ax2)\n",
        "    ax2.set_title(\"Lineplot for Negative Emotion\")\n",
        "\n",
        "df =preprocess_data(df)\n",
        "sentiment(df)"
      ]
    }
  ],
  "metadata": {
    "kernelspec": {
      "display_name": "Python 3",
      "name": "python3"
    },
    "language_info": {
      "codemirror_mode": {
        "name": "ipython",
        "version": 3
      },
      "file_extension": ".py",
      "mimetype": "text/x-python",
      "name": "python",
      "nbconvert_exporter": "python",
      "pygments_lexer": "ipython3",
      "version": "3.10.9"
    },
    "vscode": {
      "interpreter": {
        "hash": "b0fa6594d8f4cbf19f97940f81e996739fb7646882a419484c72d19e05852a7e"
      }
    },
    "colab": {
      "provenance": [],
      "gpuType": "T4"
    },
    "accelerator": "GPU"
  },
  "nbformat": 4,
  "nbformat_minor": 0
}